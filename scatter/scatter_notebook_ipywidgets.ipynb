{
 "cells": [
  {
   "cell_type": "code",
   "execution_count": 1,
   "id": "d77c9aaf-ea19-4f99-a6dd-59221d8695f4",
   "metadata": {},
   "outputs": [],
   "source": [
    "# cf  https://www.youtube.com/watch?v=STPv0jSAQEk&list=PLSIzlWDI17bS025ph6R0W_3RKM0qJ3qoO&index=4\n",
    "\n",
    "# %pip install drawdata"
   ]
  },
  {
   "cell_type": "code",
   "execution_count": 1,
   "id": "eea9f1b8-4240-4a68-a412-2b4071b2c04a",
   "metadata": {},
   "outputs": [],
   "source": [
    "from drawdata import ScatterWidget"
   ]
  },
  {
   "cell_type": "code",
   "execution_count": 2,
   "id": "207dbcfd-e731-4758-8035-d1f429aa10d4",
   "metadata": {},
   "outputs": [],
   "source": [
    "widget = ScatterWidget()"
   ]
  },
  {
   "cell_type": "code",
   "execution_count": 3,
   "id": "b77030f4-c895-4a39-96ce-b79d6a8a6d69",
   "metadata": {},
   "outputs": [],
   "source": [
    "import matplotlib.pyplot as plt\n",
    "from IPython.core.display import HTML\n",
    "from sklearn.linear_model import LogisticRegression\n",
    "from sklearn.inspection import DecisionBoundaryDisplay\n",
    "from sklearn.tree import DecisionTreeClassifier\n",
    "\n",
    "import matplotlib.pylab as plt \n",
    "import numpy as np\n",
    "import ipywidgets"
   ]
  },
  {
   "cell_type": "code",
   "execution_count": 4,
   "id": "b9d36c79-3d1d-4084-a1a6-43f3b95c06fe",
   "metadata": {},
   "outputs": [
    {
     "data": {
      "application/vnd.jupyter.widget-view+json": {
       "model_id": "8ef78172062a4e4aac876e1113718795",
       "version_major": 2,
       "version_minor": 0
      },
      "text/plain": [
       "HBox(children=(ScatterWidget(), Output()))"
      ]
     },
     "execution_count": 4,
     "metadata": {},
     "output_type": "execute_result"
    }
   ],
   "source": [
    "widget = ScatterWidget()\n",
    "output = ipywidgets.Output()\n",
    "\n",
    "\n",
    "@output.capture(clear_output=True)\n",
    "def on_change(change):\n",
    "    df = widget.data_as_pandas\n",
    "    if len(df) and (df['color'].nunique() > 1):\n",
    "        X = df[['x', 'y']].values\n",
    "        y = df['color']\n",
    "        display(HTML(\"<br><br><br>\"))\n",
    "        fig = plt.figure(figsize=(12, 12));\n",
    "        classifier = DecisionTreeClassifier().fit(X, y)\n",
    "        disp = DecisionBoundaryDisplay.from_estimator(\n",
    "            classifier, X, \n",
    "            response_method=\"predict_proba\" if len(np.unique(df['color'])) == 2 else \"predict\",\n",
    "            xlabel=\"x\", ylabel=\"y\",\n",
    "            alpha=0.5,\n",
    "        );\n",
    "        disp.ax_.scatter(X[:, 0], X[:, 1], c=y, edgecolor=\"k\");\n",
    "        plt.title(f\"{classifier.__class__.__name__}\");\n",
    "        plt.show();\n",
    "\n",
    "widget.observe(on_change, names=[\"data\"])\n",
    "on_change(None)\n",
    "ipywidgets.HBox([widget, output])"
   ]
  },
  {
   "cell_type": "code",
   "execution_count": 8,
   "id": "ea37f09b-3247-4680-b293-fb74f383e054",
   "metadata": {},
   "outputs": [
    {
     "data": {
      "text/html": [
       "<div>\n",
       "<style scoped>\n",
       "    .dataframe tbody tr th:only-of-type {\n",
       "        vertical-align: middle;\n",
       "    }\n",
       "\n",
       "    .dataframe tbody tr th {\n",
       "        vertical-align: top;\n",
       "    }\n",
       "\n",
       "    .dataframe thead th {\n",
       "        text-align: right;\n",
       "    }\n",
       "</style>\n",
       "<table border=\"1\" class=\"dataframe\">\n",
       "  <thead>\n",
       "    <tr style=\"text-align: right;\">\n",
       "      <th></th>\n",
       "      <th>x</th>\n",
       "      <th>y</th>\n",
       "      <th>color</th>\n",
       "      <th>label</th>\n",
       "    </tr>\n",
       "  </thead>\n",
       "  <tbody>\n",
       "    <tr>\n",
       "      <th>0</th>\n",
       "      <td>342.911727</td>\n",
       "      <td>340.782648</td>\n",
       "      <td>#1f77b4</td>\n",
       "      <td>a</td>\n",
       "    </tr>\n",
       "    <tr>\n",
       "      <th>1</th>\n",
       "      <td>343.788805</td>\n",
       "      <td>355.061982</td>\n",
       "      <td>#1f77b4</td>\n",
       "      <td>a</td>\n",
       "    </tr>\n",
       "    <tr>\n",
       "      <th>2</th>\n",
       "      <td>359.804205</td>\n",
       "      <td>341.632139</td>\n",
       "      <td>#1f77b4</td>\n",
       "      <td>a</td>\n",
       "    </tr>\n",
       "    <tr>\n",
       "      <th>3</th>\n",
       "      <td>353.857109</td>\n",
       "      <td>371.558665</td>\n",
       "      <td>#1f77b4</td>\n",
       "      <td>a</td>\n",
       "    </tr>\n",
       "    <tr>\n",
       "      <th>4</th>\n",
       "      <td>331.794652</td>\n",
       "      <td>351.813048</td>\n",
       "      <td>#1f77b4</td>\n",
       "      <td>a</td>\n",
       "    </tr>\n",
       "    <tr>\n",
       "      <th>...</th>\n",
       "      <td>...</td>\n",
       "      <td>...</td>\n",
       "      <td>...</td>\n",
       "      <td>...</td>\n",
       "    </tr>\n",
       "    <tr>\n",
       "      <th>1328</th>\n",
       "      <td>625.535284</td>\n",
       "      <td>403.371561</td>\n",
       "      <td>#1f77b4</td>\n",
       "      <td>a</td>\n",
       "    </tr>\n",
       "    <tr>\n",
       "      <th>1329</th>\n",
       "      <td>607.322444</td>\n",
       "      <td>379.959231</td>\n",
       "      <td>#1f77b4</td>\n",
       "      <td>a</td>\n",
       "    </tr>\n",
       "    <tr>\n",
       "      <th>1330</th>\n",
       "      <td>638.635024</td>\n",
       "      <td>390.445004</td>\n",
       "      <td>#1f77b4</td>\n",
       "      <td>a</td>\n",
       "    </tr>\n",
       "    <tr>\n",
       "      <th>1331</th>\n",
       "      <td>630.855338</td>\n",
       "      <td>377.263885</td>\n",
       "      <td>#1f77b4</td>\n",
       "      <td>a</td>\n",
       "    </tr>\n",
       "    <tr>\n",
       "      <th>1332</th>\n",
       "      <td>634.391940</td>\n",
       "      <td>384.612863</td>\n",
       "      <td>#1f77b4</td>\n",
       "      <td>a</td>\n",
       "    </tr>\n",
       "  </tbody>\n",
       "</table>\n",
       "<p>1333 rows × 4 columns</p>\n",
       "</div>"
      ],
      "text/plain": [
       "               x           y    color label\n",
       "0     342.911727  340.782648  #1f77b4     a\n",
       "1     343.788805  355.061982  #1f77b4     a\n",
       "2     359.804205  341.632139  #1f77b4     a\n",
       "3     353.857109  371.558665  #1f77b4     a\n",
       "4     331.794652  351.813048  #1f77b4     a\n",
       "...          ...         ...      ...   ...\n",
       "1328  625.535284  403.371561  #1f77b4     a\n",
       "1329  607.322444  379.959231  #1f77b4     a\n",
       "1330  638.635024  390.445004  #1f77b4     a\n",
       "1331  630.855338  377.263885  #1f77b4     a\n",
       "1332  634.391940  384.612863  #1f77b4     a\n",
       "\n",
       "[1333 rows x 4 columns]"
      ]
     },
     "execution_count": 8,
     "metadata": {},
     "output_type": "execute_result"
    }
   ],
   "source": [
    "widget.data_as_pandas"
   ]
  },
  {
   "cell_type": "code",
   "execution_count": null,
   "id": "f254636e-115e-4dc9-8324-b791c7363d99",
   "metadata": {},
   "outputs": [],
   "source": []
  }
 ],
 "metadata": {
  "kernelspec": {
   "display_name": "v312_2",
   "language": "python",
   "name": "python3"
  },
  "language_info": {
   "codemirror_mode": {
    "name": "ipython",
    "version": 3
   },
   "file_extension": ".py",
   "mimetype": "text/x-python",
   "name": "python",
   "nbconvert_exporter": "python",
   "pygments_lexer": "ipython3",
   "version": "3.12.0"
  }
 },
 "nbformat": 4,
 "nbformat_minor": 5
}
